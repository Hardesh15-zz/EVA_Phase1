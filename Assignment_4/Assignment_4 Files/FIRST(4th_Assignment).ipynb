{
  "nbformat": 4,
  "nbformat_minor": 0,
  "metadata": {
    "colab": {
      "name": "FIRST(4th Assignment).ipynb",
      "version": "0.3.2",
      "provenance": [],
      "collapsed_sections": []
    },
    "kernelspec": {
      "name": "python3",
      "display_name": "Python 3"
    },
    "accelerator": "GPU"
  },
  "cells": [
    {
      "cell_type": "markdown",
      "metadata": {
        "id": "gv4gCHTXLqlT",
        "colab_type": "text"
      },
      "source": [
        "##**I am using maximum parameters(13,939) under given limit in vanilla network and testing model validation accuracy.Model achieved validation accuracy 98.86 %.**"
      ]
    },
    {
      "cell_type": "markdown",
      "metadata": {
        "id": "aNyZv-Ec52ot",
        "colab_type": "text"
      },
      "source": [
        "\n",
        "\n",
        "# **Import Libraries and modules**"
      ]
    },
    {
      "cell_type": "code",
      "metadata": {
        "id": "3m3w1Cw49Zkt",
        "colab_type": "code",
        "colab": {
          "base_uri": "https://localhost:8080/",
          "height": 34
        },
        "outputId": "862e59e4-fd94-4b73-b683-b4f9854a6671"
      },
      "source": [
        "# https://keras.io/\n",
        "!pip install -q keras\n",
        "# Importing Keras library\n",
        "import keras"
      ],
      "execution_count": 1,
      "outputs": [
        {
          "output_type": "stream",
          "text": [
            "Using TensorFlow backend.\n"
          ],
          "name": "stderr"
        }
      ]
    },
    {
      "cell_type": "code",
      "metadata": {
        "id": "Eso6UHE080D4",
        "colab_type": "code",
        "colab": {}
      },
      "source": [
        "# Import numpy which is fundamental package for scientific computing in python\n",
        "import numpy as np\n",
        "# Using sequential model from models available in keras\n",
        "from keras.models import Sequential\n",
        "# Importing keras layers\n",
        "from keras.layers import Dense, Dropout, Activation, Flatten, Add\n",
        "from keras.layers import Convolution2D, MaxPooling2D\n",
        "# Importing utilities which transform data\n",
        "from keras.utils import np_utils\n",
        "# Importing mnist from dataset for image processing\n",
        "from keras.datasets import mnist"
      ],
      "execution_count": 0,
      "outputs": []
    },
    {
      "cell_type": "markdown",
      "metadata": {
        "id": "zByEi95J86RD",
        "colab_type": "text"
      },
      "source": [
        "### Load pre-shuffled MNIST data into train and test sets"
      ]
    },
    {
      "cell_type": "code",
      "metadata": {
        "id": "7eRM0QWN83PV",
        "colab_type": "code",
        "colab": {}
      },
      "source": [
        "# Loading train and test data \n",
        "(X_train, y_train), (X_test, y_test) = mnist.load_data()"
      ],
      "execution_count": 0,
      "outputs": []
    },
    {
      "cell_type": "code",
      "metadata": {
        "id": "4a4Be72j8-ZC",
        "colab_type": "code",
        "outputId": "65eb2535-d317-4875-eb03-cd75967af95b",
        "colab": {
          "base_uri": "https://localhost:8080/",
          "height": 303
        }
      },
      "source": [
        "# Printing train data shape\n",
        "print (X_train.shape)\n",
        "# Matplotlib is used for ploting graph\n",
        "from matplotlib import pyplot as plt\n",
        "# Ploting image under code cell\n",
        "%matplotlib inline\n",
        "# Ploted image of train[0] from train data set\n",
        "plt.imshow(X_train[0])"
      ],
      "execution_count": 4,
      "outputs": [
        {
          "output_type": "stream",
          "text": [
            "(60000, 28, 28)\n"
          ],
          "name": "stdout"
        },
        {
          "output_type": "execute_result",
          "data": {
            "text/plain": [
              "<matplotlib.image.AxesImage at 0x7f52f0395c18>"
            ]
          },
          "metadata": {
            "tags": []
          },
          "execution_count": 4
        },
        {
          "output_type": "display_data",
          "data": {
            "image/png": "[encoded data removed]",
            "text/plain": [
              "<Figure size 432x288 with 1 Axes>"
            ]
          },
          "metadata": {
            "tags": []
          }
        }
      ]
    },
    {
      "cell_type": "code",
      "metadata": {
        "id": "dkmprriw9AnZ",
        "colab_type": "code",
        "colab": {}
      },
      "source": [
        "# Reshaping for train and test data for processing\n",
        "X_train = X_train.reshape(X_train.shape[0], 28, 28,1)\n",
        "X_test = X_test.reshape(X_test.shape[0], 28, 28,1)"
      ],
      "execution_count": 0,
      "outputs": []
    },
    {
      "cell_type": "code",
      "metadata": {
        "id": "X2m4YS4E9CRh",
        "colab_type": "code",
        "colab": {}
      },
      "source": [
        "# Conversion of train and test data set\n",
        "X_train = X_train.astype('float32')\n",
        "X_test = X_test.astype('float32')\n",
        "X_train /= 255\n",
        "X_test /= 255"
      ],
      "execution_count": 0,
      "outputs": []
    },
    {
      "cell_type": "code",
      "metadata": {
        "id": "0Mn0vAYD9DvB",
        "colab_type": "code",
        "outputId": "0cb571bb-af74-4bf2-e124-045ae5c7445e",
        "colab": {
          "base_uri": "https://localhost:8080/",
          "height": 34
        }
      },
      "source": [
        "# output of train data array and its data type\n",
        "y_train[:10]"
      ],
      "execution_count": 7,
      "outputs": [
        {
          "output_type": "execute_result",
          "data": {
            "text/plain": [
              "array([5, 0, 4, 1, 9, 2, 1, 3, 1, 4], dtype=uint8)"
            ]
          },
          "metadata": {
            "tags": []
          },
          "execution_count": 7
        }
      ]
    },
    {
      "cell_type": "code",
      "metadata": {
        "id": "ZG8JiXR39FHC",
        "colab_type": "code",
        "colab": {}
      },
      "source": [
        "# Convert 1-dimensional class arrays to 10-dimensional class matrices\n",
        "Y_train = np_utils.to_categorical(y_train, 10)\n",
        "Y_test = np_utils.to_categorical(y_test, 10)"
      ],
      "execution_count": 0,
      "outputs": []
    },
    {
      "cell_type": "code",
      "metadata": {
        "id": "fYlFRvKS9HMB",
        "colab_type": "code",
        "outputId": "54a9916b-eaa1-4b3a-dc6d-534f97f4365d",
        "colab": {
          "base_uri": "https://localhost:8080/",
          "height": 187
        }
      },
      "source": [
        "# Output of train data set array of dimension 10\n",
        "Y_train[:10]\n"
      ],
      "execution_count": 9,
      "outputs": [
        {
          "output_type": "execute_result",
          "data": {
            "text/plain": [
              "array([[0., 0., 0., 0., 0., 1., 0., 0., 0., 0.],\n",
              "       [1., 0., 0., 0., 0., 0., 0., 0., 0., 0.],\n",
              "       [0., 0., 0., 0., 1., 0., 0., 0., 0., 0.],\n",
              "       [0., 1., 0., 0., 0., 0., 0., 0., 0., 0.],\n",
              "       [0., 0., 0., 0., 0., 0., 0., 0., 0., 1.],\n",
              "       [0., 0., 1., 0., 0., 0., 0., 0., 0., 0.],\n",
              "       [0., 1., 0., 0., 0., 0., 0., 0., 0., 0.],\n",
              "       [0., 0., 0., 1., 0., 0., 0., 0., 0., 0.],\n",
              "       [0., 1., 0., 0., 0., 0., 0., 0., 0., 0.],\n",
              "       [0., 0., 0., 0., 1., 0., 0., 0., 0., 0.]], dtype=float32)"
            ]
          },
          "metadata": {
            "tags": []
          },
          "execution_count": 9
        }
      ]
    },
    {
      "cell_type": "code",
      "metadata": {
        "id": "osKqT73Q9JJB",
        "colab_type": "code",
        "outputId": "d28fbfd0-62c1-413c-98fc-4c1ed537e92d",
        "colab": {
          "base_uri": "https://localhost:8080/",
          "height": 853
        }
      },
      "source": [
        "# Using Activation function from keras layers\n",
        "from keras.layers import Activation\n",
        "# Defining sequential model\n",
        "model = Sequential()\n",
        "# Using convolution and Max Pooling operation on input image\n",
        "\n",
        "model.add(Convolution2D(13, 3, 3, activation='relu', input_shape=(28,28,1))) # 26 \n",
        "model.add(Convolution2D(13, 3, 3, activation='relu')) # 24\n",
        "model.add(Convolution2D(26, 3, 3, activation='relu')) # 22\n",
        "\n",
        "model.add(MaxPooling2D(pool_size=(2, 2))) # 11\n",
        "\n",
        "model.add(Convolution2D(13, 1, 1, activation='relu')) # 11\n",
        "model.add(Convolution2D(13, 3, 3, activation='relu')) # 9\n",
        "\n",
        "model.add(Convolution2D(13, 3, 3, activation='relu')) # 7\n",
        "model.add(Convolution2D(13, 3, 3, activation='relu')) # 5\n",
        "model.add(Convolution2D(26, 3, 3, activation='relu')) # 3\n",
        "\n",
        "model.add(Convolution2D(10, 1)) # 3\n",
        "model.add(Convolution2D(10, 3)) # 1\n",
        "\n",
        "# using flatten to convert multidimension array into 1-d array\n",
        "model.add(Flatten())\n",
        "# Using softmax activation function for probability distribution\n",
        "model.add(Activation('softmax'))\n",
        "# Print Model summary \n",
        "model.summary()\n"
      ],
      "execution_count": 17,
      "outputs": [
        {
          "output_type": "stream",
          "text": [
            "_________________________________________________________________\n",
            "Layer (type)                 Output Shape              Param #   \n",
            "=================================================================\n",
            "conv2d_50 (Conv2D)           (None, 26, 26, 13)        130       \n",
            "_________________________________________________________________\n",
            "conv2d_51 (Conv2D)           (None, 24, 24, 13)        1534      \n",
            "_________________________________________________________________\n",
            "conv2d_52 (Conv2D)           (None, 22, 22, 26)        3068      \n",
            "_________________________________________________________________\n",
            "max_pooling2d_6 (MaxPooling2 (None, 11, 11, 26)        0         \n",
            "_________________________________________________________________\n",
            "conv2d_53 (Conv2D)           (None, 11, 11, 13)        351       \n",
            "_________________________________________________________________\n",
            "conv2d_54 (Conv2D)           (None, 9, 9, 13)          1534      \n",
            "_________________________________________________________________\n",
            "conv2d_55 (Conv2D)           (None, 7, 7, 13)          1534      \n",
            "_________________________________________________________________\n",
            "conv2d_56 (Conv2D)           (None, 5, 5, 13)          1534      \n",
            "_________________________________________________________________\n",
            "conv2d_57 (Conv2D)           (None, 3, 3, 26)          3068      \n",
            "_________________________________________________________________\n",
            "conv2d_58 (Conv2D)           (None, 3, 3, 10)          270       \n",
            "_________________________________________________________________\n",
            "conv2d_59 (Conv2D)           (None, 1, 1, 10)          910       \n",
            "_________________________________________________________________\n",
            "flatten_6 (Flatten)          (None, 10)                0         \n",
            "_________________________________________________________________\n",
            "activation_6 (Activation)    (None, 10)                0         \n",
            "=================================================================\n",
            "Total params: 13,933\n",
            "Trainable params: 13,933\n",
            "Non-trainable params: 0\n",
            "_________________________________________________________________\n"
          ],
          "name": "stdout"
        },
        {
          "output_type": "stream",
          "text": [
            "/usr/local/lib/python3.6/dist-packages/ipykernel_launcher.py:6: UserWarning: Update your `Conv2D` call to the Keras 2 API: `Conv2D(13, (3, 3), activation=\"relu\", input_shape=(28, 28, 1...)`\n",
            "  \n",
            "/usr/local/lib/python3.6/dist-packages/ipykernel_launcher.py:7: UserWarning: Update your `Conv2D` call to the Keras 2 API: `Conv2D(13, (3, 3), activation=\"relu\")`\n",
            "  import sys\n",
            "/usr/local/lib/python3.6/dist-packages/ipykernel_launcher.py:8: UserWarning: Update your `Conv2D` call to the Keras 2 API: `Conv2D(26, (3, 3), activation=\"relu\")`\n",
            "  \n",
            "/usr/local/lib/python3.6/dist-packages/ipykernel_launcher.py:12: UserWarning: Update your `Conv2D` call to the Keras 2 API: `Conv2D(13, (1, 1), activation=\"relu\")`\n",
            "  if sys.path[0] == '':\n",
            "/usr/local/lib/python3.6/dist-packages/ipykernel_launcher.py:13: UserWarning: Update your `Conv2D` call to the Keras 2 API: `Conv2D(13, (3, 3), activation=\"relu\")`\n",
            "  del sys.path[0]\n",
            "/usr/local/lib/python3.6/dist-packages/ipykernel_launcher.py:15: UserWarning: Update your `Conv2D` call to the Keras 2 API: `Conv2D(13, (3, 3), activation=\"relu\")`\n",
            "  from ipykernel import kernelapp as app\n",
            "/usr/local/lib/python3.6/dist-packages/ipykernel_launcher.py:16: UserWarning: Update your `Conv2D` call to the Keras 2 API: `Conv2D(13, (3, 3), activation=\"relu\")`\n",
            "  app.launch_new_instance()\n",
            "/usr/local/lib/python3.6/dist-packages/ipykernel_launcher.py:17: UserWarning: Update your `Conv2D` call to the Keras 2 API: `Conv2D(26, (3, 3), activation=\"relu\")`\n"
          ],
          "name": "stderr"
        }
      ]
    },
    {
      "cell_type": "code",
      "metadata": {
        "id": "Zp6SuGrL9M3h",
        "colab_type": "code",
        "colab": {}
      },
      "source": [
        "# Compile model\n",
        "model.compile(loss='categorical_crossentropy', optimizer='adam', metrics=['accuracy'])"
      ],
      "execution_count": 0,
      "outputs": []
    },
    {
      "cell_type": "code",
      "metadata": {
        "id": "4xWoKhPY9Of5",
        "colab_type": "code",
        "outputId": "9573ecb3-fa08-44a8-94a6-cabda5662935",
        "colab": {
          "base_uri": "https://localhost:8080/",
          "height": 391
        }
      },
      "source": [
        "# fit model for training data\n",
        "model.fit(X_train, Y_train, batch_size=32, epochs=10, verbose=1, validation_data=(X_test, Y_test))\n",
        "\n"
      ],
      "execution_count": 19,
      "outputs": [
        {
          "output_type": "stream",
          "text": [
            "Train on 60000 samples, validate on 10000 samples\n",
            "Epoch 1/10\n",
            "60000/60000 [==============================] - 24s 404us/step - loss: 0.2718 - acc: 0.9150 - val_loss: 0.1015 - val_acc: 0.9680\n",
            "Epoch 2/10\n",
            "60000/60000 [==============================] - 23s 388us/step - loss: 0.0952 - acc: 0.9716 - val_loss: 0.0615 - val_acc: 0.9814\n",
            "Epoch 3/10\n",
            "60000/60000 [==============================] - 23s 390us/step - loss: 0.0722 - acc: 0.9785 - val_loss: 0.0428 - val_acc: 0.9862\n",
            "Epoch 4/10\n",
            "60000/60000 [==============================] - 23s 388us/step - loss: 0.0588 - acc: 0.9816 - val_loss: 0.0418 - val_acc: 0.9868\n",
            "Epoch 5/10\n",
            "60000/60000 [==============================] - 23s 387us/step - loss: 0.0524 - acc: 0.9835 - val_loss: 0.0406 - val_acc: 0.9870\n",
            "Epoch 6/10\n",
            "60000/60000 [==============================] - 23s 386us/step - loss: 0.0468 - acc: 0.9857 - val_loss: 0.0371 - val_acc: 0.9872\n",
            "Epoch 7/10\n",
            "60000/60000 [==============================] - 23s 388us/step - loss: 0.0419 - acc: 0.9869 - val_loss: 0.0365 - val_acc: 0.9888\n",
            "Epoch 8/10\n",
            "60000/60000 [==============================] - 23s 387us/step - loss: 0.0387 - acc: 0.9877 - val_loss: 0.0383 - val_acc: 0.9886\n",
            "Epoch 9/10\n",
            "60000/60000 [==============================] - 23s 389us/step - loss: 0.0346 - acc: 0.9890 - val_loss: 0.0490 - val_acc: 0.9850\n",
            "Epoch 10/10\n",
            "60000/60000 [==============================] - 23s 387us/step - loss: 0.0328 - acc: 0.9899 - val_loss: 0.0381 - val_acc: 0.9886\n"
          ],
          "name": "stdout"
        },
        {
          "output_type": "execute_result",
          "data": {
            "text/plain": [
              "<keras.callbacks.History at 0x7f52e4f87a20>"
            ]
          },
          "metadata": {
            "tags": []
          },
          "execution_count": 19
        }
      ]
    },
    {
      "cell_type": "code",
      "metadata": {
        "id": "qeqnTRyw0XyQ",
        "colab_type": "code",
        "outputId": "a47b3b42-a7c2-478f-8343-39638a2bc434",
        "colab": {
          "base_uri": "https://localhost:8080/",
          "height": 51
        }
      },
      "source": [
        "# evaluating and printing model score\n",
        "score = model.evaluate(X_test, Y_test, verbose=0)\n",
        "print('Loss:', score[0])\n",
        "print('Accuracy:', score[1])"
      ],
      "execution_count": 20,
      "outputs": [
        {
          "output_type": "stream",
          "text": [
            "Loss: 0.038102811605017634\n",
            "Accuracy: 0.9886\n"
          ],
          "name": "stdout"
        }
      ]
    }
  ]
}