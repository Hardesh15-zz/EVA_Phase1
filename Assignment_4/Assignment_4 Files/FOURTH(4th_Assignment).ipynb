{
  "nbformat": 4,
  "nbformat_minor": 0,
  "metadata": {
    "colab": {
      "name": "FOURTH(4th Assignment).ipynb",
      "version": "0.3.2",
      "provenance": [],
      "collapsed_sections": []
    },
    "kernelspec": {
      "name": "python3",
      "display_name": "Python 3"
    },
    "accelerator": "GPU"
  },
  "cells": [
    {
      "cell_type": "markdown",
      "metadata": {
        "id": "g0BHzp9XPlhW",
        "colab_type": "text"
      },
      "source": [
        "**Improvement on THIRD code file- increased Batch size and epochs and incremental model.fit()</br> Observation-Model validation accuracy in first model.fit() reached to 99.33% while in second model.fit() validation accuracy increased to 99.49%**"
      ]
    },
    {
      "cell_type": "markdown",
      "metadata": {
        "id": "aNyZv-Ec52ot",
        "colab_type": "text"
      },
      "source": [
        "# **Import Libraries and modules**"
      ]
    },
    {
      "cell_type": "code",
      "metadata": {
        "id": "3m3w1Cw49Zkt",
        "colab_type": "code",
        "colab": {
          "base_uri": "https://localhost:8080/",
          "height": 34
        },
        "outputId": "47809ceb-410d-4cc3-992b-6b701ecbdd89"
      },
      "source": [
        "# https://keras.io/\n",
        "!pip install -q keras\n",
        "# Importing Keras library\n",
        "import keras"
      ],
      "execution_count": 1,
      "outputs": [
        {
          "output_type": "stream",
          "text": [
            "Using TensorFlow backend.\n"
          ],
          "name": "stderr"
        }
      ]
    },
    {
      "cell_type": "code",
      "metadata": {
        "id": "Eso6UHE080D4",
        "colab_type": "code",
        "colab": {}
      },
      "source": [
        "# Import numpy which is fundamental package for scientific computing in python\n",
        "import numpy as np\n",
        "# Using sequential model from models available in keras\n",
        "from keras.models import Sequential\n",
        "# Importing keras layers\n",
        "from keras.layers import Dense, Dropout, Activation, Flatten, Add\n",
        "from keras.layers import Convolution2D, MaxPooling2D\n",
        "# Importing utilities which transform data\n",
        "from keras.utils import np_utils\n",
        "# Importing mnist from dataset for image processing\n",
        "from keras.datasets import mnist"
      ],
      "execution_count": 0,
      "outputs": []
    },
    {
      "cell_type": "markdown",
      "metadata": {
        "id": "zByEi95J86RD",
        "colab_type": "text"
      },
      "source": [
        "### Load pre-shuffled MNIST data into train and test sets"
      ]
    },
    {
      "cell_type": "code",
      "metadata": {
        "id": "7eRM0QWN83PV",
        "colab_type": "code",
        "colab": {
          "base_uri": "https://localhost:8080/",
          "height": 51
        },
        "outputId": "1422a1e1-4478-42c3-cf8c-2ddec971a164"
      },
      "source": [
        "# Loading train and test data \n",
        "(X_train, y_train), (X_test, y_test) = mnist.load_data()"
      ],
      "execution_count": 3,
      "outputs": [
        {
          "output_type": "stream",
          "text": [
            "Downloading data from https://s3.amazonaws.com/img-datasets/mnist.npz\n",
            "11493376/11490434 [==============================] - 0s 0us/step\n"
          ],
          "name": "stdout"
        }
      ]
    },
    {
      "cell_type": "code",
      "metadata": {
        "id": "4a4Be72j8-ZC",
        "colab_type": "code",
        "outputId": "5d613737-887d-4f1d-8f10-76fc0e1f8d0d",
        "colab": {
          "base_uri": "https://localhost:8080/",
          "height": 303
        }
      },
      "source": [
        "# Printing train data shape\n",
        "print (X_train.shape)\n",
        "# Matplotlib is used for ploting graph\n",
        "from matplotlib import pyplot as plt\n",
        "# Ploting image under code cell\n",
        "%matplotlib inline\n",
        "# Ploted image of train[0] from train data set\n",
        "plt.imshow(X_train[0])"
      ],
      "execution_count": 4,
      "outputs": [
        {
          "output_type": "stream",
          "text": [
            "(60000, 28, 28)\n"
          ],
          "name": "stdout"
        },
        {
          "output_type": "execute_result",
          "data": {
            "text/plain": [
              "<matplotlib.image.AxesImage at 0x7f67fa242860>"
            ]
          },
          "metadata": {
            "tags": []
          },
          "execution_count": 4
        },
        {
          "output_type": "display_data",
          "data": {
            "image/png": "[encoded data removed]",
            "text/plain": [
              "<Figure size 432x288 with 1 Axes>"
            ]
          },
          "metadata": {
            "tags": []
          }
        }
      ]
    },
    {
      "cell_type": "code",
      "metadata": {
        "id": "dkmprriw9AnZ",
        "colab_type": "code",
        "colab": {}
      },
      "source": [
        "# Reshaping for train and test data for processing\n",
        "X_train = X_train.reshape(X_train.shape[0], 28, 28,1)\n",
        "X_test = X_test.reshape(X_test.shape[0], 28, 28,1)"
      ],
      "execution_count": 0,
      "outputs": []
    },
    {
      "cell_type": "code",
      "metadata": {
        "id": "X2m4YS4E9CRh",
        "colab_type": "code",
        "colab": {}
      },
      "source": [
        "# Conversion of train and test data set\n",
        "X_train = X_train.astype('float32')\n",
        "X_test = X_test.astype('float32')\n",
        "X_train /= 255\n",
        "X_test /= 255"
      ],
      "execution_count": 0,
      "outputs": []
    },
    {
      "cell_type": "code",
      "metadata": {
        "id": "0Mn0vAYD9DvB",
        "colab_type": "code",
        "outputId": "a21424e3-7332-4087-d8d5-204ce136251e",
        "colab": {
          "base_uri": "https://localhost:8080/",
          "height": 34
        }
      },
      "source": [
        "# output of train data array and its data type\n",
        "y_train[:10]"
      ],
      "execution_count": 7,
      "outputs": [
        {
          "output_type": "execute_result",
          "data": {
            "text/plain": [
              "array([5, 0, 4, 1, 9, 2, 1, 3, 1, 4], dtype=uint8)"
            ]
          },
          "metadata": {
            "tags": []
          },
          "execution_count": 7
        }
      ]
    },
    {
      "cell_type": "code",
      "metadata": {
        "id": "ZG8JiXR39FHC",
        "colab_type": "code",
        "colab": {}
      },
      "source": [
        "# Convert 1-dimensional class arrays to 10-dimensional class matrices\n",
        "Y_train = np_utils.to_categorical(y_train, 10)\n",
        "Y_test = np_utils.to_categorical(y_test, 10)"
      ],
      "execution_count": 0,
      "outputs": []
    },
    {
      "cell_type": "code",
      "metadata": {
        "id": "fYlFRvKS9HMB",
        "colab_type": "code",
        "outputId": "698ae42a-a5ab-4f1d-e20f-3031509c7164",
        "colab": {
          "base_uri": "https://localhost:8080/",
          "height": 187
        }
      },
      "source": [
        "# Output of train data set array of dimension 10\n",
        "Y_train[:10]\n"
      ],
      "execution_count": 9,
      "outputs": [
        {
          "output_type": "execute_result",
          "data": {
            "text/plain": [
              "array([[0., 0., 0., 0., 0., 1., 0., 0., 0., 0.],\n",
              "       [1., 0., 0., 0., 0., 0., 0., 0., 0., 0.],\n",
              "       [0., 0., 0., 0., 1., 0., 0., 0., 0., 0.],\n",
              "       [0., 1., 0., 0., 0., 0., 0., 0., 0., 0.],\n",
              "       [0., 0., 0., 0., 0., 0., 0., 0., 0., 1.],\n",
              "       [0., 0., 1., 0., 0., 0., 0., 0., 0., 0.],\n",
              "       [0., 1., 0., 0., 0., 0., 0., 0., 0., 0.],\n",
              "       [0., 0., 0., 1., 0., 0., 0., 0., 0., 0.],\n",
              "       [0., 1., 0., 0., 0., 0., 0., 0., 0., 0.],\n",
              "       [0., 0., 0., 0., 1., 0., 0., 0., 0., 0.]], dtype=float32)"
            ]
          },
          "metadata": {
            "tags": []
          },
          "execution_count": 9
        }
      ]
    },
    {
      "cell_type": "code",
      "metadata": {
        "id": "osKqT73Q9JJB",
        "colab_type": "code",
        "outputId": "3d88b6ed-3df1-489d-cebc-f0790523ecba",
        "colab": {
          "base_uri": "https://localhost:8080/",
          "height": 1023
        }
      },
      "source": [
        "# Using Activation function from keras layers\n",
        "from keras.layers import Activation, BatchNormalization\n",
        "# Defining sequential model\n",
        "model = Sequential()\n",
        "# Using convolution and Max Pooling operation on input image\n",
        "\n",
        "model.add(Convolution2D(12, 3, 3, activation='relu', input_shape=(28,28,1))) #26\n",
        "model.add(BatchNormalization())\n",
        "model.add(Dropout(0.1))\n",
        "\n",
        "model.add(Convolution2D(12, 3, 3, activation='relu')) #24\n",
        "model.add(BatchNormalization())\n",
        "model.add(Dropout(0.1))\n",
        "\n",
        "model.add(Convolution2D(24, 3, 3, activation='relu')) #22\n",
        "\n",
        "model.add(MaxPooling2D(pool_size=(2, 2)))#11\n",
        "\n",
        "model.add(Convolution2D(12, 1, 1, activation='relu'))#11\n",
        "model.add(BatchNormalization())\n",
        "model.add(Dropout(0.1))\n",
        "\n",
        "\n",
        "model.add(Convolution2D(12, 3, 3, activation='relu'))#9\n",
        "model.add(BatchNormalization())\n",
        "model.add(Dropout(0.1))\n",
        "\n",
        "\n",
        "model.add(Convolution2D(24, 3, 3, activation='relu'))#7\n",
        "model.add(BatchNormalization())\n",
        "model.add(Dropout(0.1))\n",
        "\n",
        "\n",
        "model.add(Convolution2D(10, 1))\n",
        "model.add(Convolution2D(10, 7))\n",
        "\n",
        "# using flatten to convert multidimension array into 1-d array\n",
        "model.add(Flatten())\n",
        "# Using softmax activation function for probability distribution\n",
        "model.add(Activation('softmax'))\n",
        "# Print Model summary \n",
        "model.summary()\n"
      ],
      "execution_count": 19,
      "outputs": [
        {
          "output_type": "stream",
          "text": [
            "/usr/local/lib/python3.6/dist-packages/ipykernel_launcher.py:6: UserWarning: Update your `Conv2D` call to the Keras 2 API: `Conv2D(12, (3, 3), activation=\"relu\", input_shape=(28, 28, 1...)`\n",
            "  \n",
            "/usr/local/lib/python3.6/dist-packages/ipykernel_launcher.py:10: UserWarning: Update your `Conv2D` call to the Keras 2 API: `Conv2D(12, (3, 3), activation=\"relu\")`\n",
            "  # Remove the CWD from sys.path while we load stuff.\n",
            "/usr/local/lib/python3.6/dist-packages/ipykernel_launcher.py:14: UserWarning: Update your `Conv2D` call to the Keras 2 API: `Conv2D(24, (3, 3), activation=\"relu\")`\n",
            "  \n",
            "/usr/local/lib/python3.6/dist-packages/ipykernel_launcher.py:18: UserWarning: Update your `Conv2D` call to the Keras 2 API: `Conv2D(12, (1, 1), activation=\"relu\")`\n",
            "/usr/local/lib/python3.6/dist-packages/ipykernel_launcher.py:23: UserWarning: Update your `Conv2D` call to the Keras 2 API: `Conv2D(12, (3, 3), activation=\"relu\")`\n"
          ],
          "name": "stderr"
        },
        {
          "output_type": "stream",
          "text": [
            "_________________________________________________________________\n",
            "Layer (type)                 Output Shape              Param #   \n",
            "=================================================================\n",
            "conv2d_25 (Conv2D)           (None, 26, 26, 12)        120       \n",
            "_________________________________________________________________\n",
            "batch_normalization_16 (Batc (None, 26, 26, 12)        48        \n",
            "_________________________________________________________________\n",
            "dropout_16 (Dropout)         (None, 26, 26, 12)        0         \n",
            "_________________________________________________________________\n",
            "conv2d_26 (Conv2D)           (None, 24, 24, 12)        1308      \n",
            "_________________________________________________________________\n",
            "batch_normalization_17 (Batc (None, 24, 24, 12)        48        \n",
            "_________________________________________________________________\n",
            "dropout_17 (Dropout)         (None, 24, 24, 12)        0         \n",
            "_________________________________________________________________\n",
            "conv2d_27 (Conv2D)           (None, 22, 22, 24)        2616      \n",
            "_________________________________________________________________\n",
            "max_pooling2d_4 (MaxPooling2 (None, 11, 11, 24)        0         \n",
            "_________________________________________________________________\n",
            "conv2d_28 (Conv2D)           (None, 11, 11, 12)        300       \n",
            "_________________________________________________________________\n",
            "batch_normalization_18 (Batc (None, 11, 11, 12)        48        \n",
            "_________________________________________________________________\n",
            "dropout_18 (Dropout)         (None, 11, 11, 12)        0         \n",
            "_________________________________________________________________\n",
            "conv2d_29 (Conv2D)           (None, 9, 9, 12)          1308      \n",
            "_________________________________________________________________\n",
            "batch_normalization_19 (Batc (None, 9, 9, 12)          48        \n",
            "_________________________________________________________________\n",
            "dropout_19 (Dropout)         (None, 9, 9, 12)          0         \n",
            "_________________________________________________________________\n",
            "conv2d_30 (Conv2D)           (None, 7, 7, 24)          2616      \n",
            "_________________________________________________________________\n",
            "batch_normalization_20 (Batc (None, 7, 7, 24)          96        \n",
            "_________________________________________________________________\n",
            "dropout_20 (Dropout)         (None, 7, 7, 24)          0         \n",
            "_________________________________________________________________\n",
            "conv2d_31 (Conv2D)           (None, 7, 7, 10)          250       \n",
            "_________________________________________________________________\n",
            "conv2d_32 (Conv2D)           (None, 1, 1, 10)          4910      \n",
            "_________________________________________________________________\n",
            "flatten_4 (Flatten)          (None, 10)                0         \n",
            "_________________________________________________________________\n",
            "activation_4 (Activation)    (None, 10)                0         \n",
            "=================================================================\n",
            "Total params: 13,716\n",
            "Trainable params: 13,572\n",
            "Non-trainable params: 144\n",
            "_________________________________________________________________\n"
          ],
          "name": "stdout"
        },
        {
          "output_type": "stream",
          "text": [
            "/usr/local/lib/python3.6/dist-packages/ipykernel_launcher.py:28: UserWarning: Update your `Conv2D` call to the Keras 2 API: `Conv2D(24, (3, 3), activation=\"relu\")`\n"
          ],
          "name": "stderr"
        }
      ]
    },
    {
      "cell_type": "code",
      "metadata": {
        "id": "Zp6SuGrL9M3h",
        "colab_type": "code",
        "colab": {}
      },
      "source": [
        "# Compile model\n",
        "model.compile(loss='categorical_crossentropy', optimizer='adam', metrics=['accuracy'])"
      ],
      "execution_count": 0,
      "outputs": []
    },
    {
      "cell_type": "code",
      "metadata": {
        "id": "4xWoKhPY9Of5",
        "colab_type": "code",
        "outputId": "945fe1ca-a6a0-48a0-f6a0-2b1042281e78",
        "colab": {
          "base_uri": "https://localhost:8080/",
          "height": 731
        }
      },
      "source": [
        "# fit model for training data\n",
        "model.fit(X_train, Y_train, batch_size=64, epochs=20, verbose=1, validation_data=(X_test, Y_test))\n",
        "\n"
      ],
      "execution_count": 21,
      "outputs": [
        {
          "output_type": "stream",
          "text": [
            "Train on 60000 samples, validate on 10000 samples\n",
            "Epoch 1/20\n",
            "60000/60000 [==============================] - 13s 211us/step - loss: 0.2215 - acc: 0.9287 - val_loss: 0.0556 - val_acc: 0.9810\n",
            "Epoch 2/20\n",
            "60000/60000 [==============================] - 11s 186us/step - loss: 0.0717 - acc: 0.9778 - val_loss: 0.0612 - val_acc: 0.9789\n",
            "Epoch 3/20\n",
            "60000/60000 [==============================] - 11s 188us/step - loss: 0.0561 - acc: 0.9826 - val_loss: 0.0364 - val_acc: 0.9881\n",
            "Epoch 4/20\n",
            "60000/60000 [==============================] - 12s 200us/step - loss: 0.0477 - acc: 0.9852 - val_loss: 0.0358 - val_acc: 0.9871\n",
            "Epoch 5/20\n",
            "60000/60000 [==============================] - 11s 181us/step - loss: 0.0416 - acc: 0.9868 - val_loss: 0.0330 - val_acc: 0.9879\n",
            "Epoch 6/20\n",
            "60000/60000 [==============================] - 11s 181us/step - loss: 0.0395 - acc: 0.9876 - val_loss: 0.0270 - val_acc: 0.9901\n",
            "Epoch 7/20\n",
            "60000/60000 [==============================] - 11s 181us/step - loss: 0.0341 - acc: 0.9891 - val_loss: 0.0272 - val_acc: 0.9901\n",
            "Epoch 8/20\n",
            "60000/60000 [==============================] - 11s 181us/step - loss: 0.0325 - acc: 0.9892 - val_loss: 0.0253 - val_acc: 0.9917\n",
            "Epoch 9/20\n",
            "60000/60000 [==============================] - 11s 181us/step - loss: 0.0312 - acc: 0.9900 - val_loss: 0.0251 - val_acc: 0.9918\n",
            "Epoch 10/20\n",
            "60000/60000 [==============================] - 11s 181us/step - loss: 0.0287 - acc: 0.9908 - val_loss: 0.0220 - val_acc: 0.9928\n",
            "Epoch 11/20\n",
            "60000/60000 [==============================] - 12s 199us/step - loss: 0.0286 - acc: 0.9908 - val_loss: 0.0238 - val_acc: 0.9921\n",
            "Epoch 12/20\n",
            "60000/60000 [==============================] - 11s 183us/step - loss: 0.0265 - acc: 0.9915 - val_loss: 0.0308 - val_acc: 0.9900\n",
            "Epoch 13/20\n",
            "60000/60000 [==============================] - 11s 180us/step - loss: 0.0240 - acc: 0.9920 - val_loss: 0.0220 - val_acc: 0.9931\n",
            "Epoch 14/20\n",
            "60000/60000 [==============================] - 11s 181us/step - loss: 0.0235 - acc: 0.9924 - val_loss: 0.0226 - val_acc: 0.9923\n",
            "Epoch 15/20\n",
            "60000/60000 [==============================] - 11s 180us/step - loss: 0.0230 - acc: 0.9921 - val_loss: 0.0243 - val_acc: 0.9915\n",
            "Epoch 16/20\n",
            "60000/60000 [==============================] - 11s 180us/step - loss: 0.0222 - acc: 0.9930 - val_loss: 0.0193 - val_acc: 0.9934\n",
            "Epoch 17/20\n",
            "60000/60000 [==============================] - 11s 180us/step - loss: 0.0221 - acc: 0.9930 - val_loss: 0.0231 - val_acc: 0.9919\n",
            "Epoch 18/20\n",
            "60000/60000 [==============================] - 12s 207us/step - loss: 0.0212 - acc: 0.9930 - val_loss: 0.0238 - val_acc: 0.9926\n",
            "Epoch 19/20\n",
            "60000/60000 [==============================] - 11s 189us/step - loss: 0.0206 - acc: 0.9932 - val_loss: 0.0253 - val_acc: 0.9916\n",
            "Epoch 20/20\n",
            "60000/60000 [==============================] - 11s 179us/step - loss: 0.0193 - acc: 0.9937 - val_loss: 0.0211 - val_acc: 0.9933\n"
          ],
          "name": "stdout"
        },
        {
          "output_type": "execute_result",
          "data": {
            "text/plain": [
              "<keras.callbacks.History at 0x7f67fa242f28>"
            ]
          },
          "metadata": {
            "tags": []
          },
          "execution_count": 21
        }
      ]
    },
    {
      "cell_type": "code",
      "metadata": {
        "id": "jJGln1_mrvMz",
        "colab_type": "code",
        "outputId": "3bde6b9d-6897-4494-899e-01394fa15d0d",
        "colab": {
          "base_uri": "https://localhost:8080/",
          "height": 1071
        }
      },
      "source": [
        "model.fit(X_train, Y_train, batch_size=128, epochs=30, verbose=1, validation_data=(X_test, Y_test))"
      ],
      "execution_count": 22,
      "outputs": [
        {
          "output_type": "stream",
          "text": [
            "Train on 60000 samples, validate on 10000 samples\n",
            "Epoch 1/30\n",
            "60000/60000 [==============================] - 7s 110us/step - loss: 0.0150 - acc: 0.9947 - val_loss: 0.0180 - val_acc: 0.9939\n",
            "Epoch 2/30\n",
            "60000/60000 [==============================] - 6s 106us/step - loss: 0.0139 - acc: 0.9952 - val_loss: 0.0195 - val_acc: 0.9928\n",
            "Epoch 3/30\n",
            "60000/60000 [==============================] - 6s 101us/step - loss: 0.0129 - acc: 0.9956 - val_loss: 0.0188 - val_acc: 0.9930\n",
            "Epoch 4/30\n",
            "60000/60000 [==============================] - 6s 102us/step - loss: 0.0136 - acc: 0.9956 - val_loss: 0.0201 - val_acc: 0.9930\n",
            "Epoch 5/30\n",
            "60000/60000 [==============================] - 6s 101us/step - loss: 0.0131 - acc: 0.9958 - val_loss: 0.0217 - val_acc: 0.9931\n",
            "Epoch 6/30\n",
            "60000/60000 [==============================] - 6s 101us/step - loss: 0.0144 - acc: 0.9953 - val_loss: 0.0207 - val_acc: 0.9936\n",
            "Epoch 7/30\n",
            "60000/60000 [==============================] - 6s 100us/step - loss: 0.0135 - acc: 0.9955 - val_loss: 0.0204 - val_acc: 0.9940\n",
            "Epoch 8/30\n",
            "60000/60000 [==============================] - 6s 100us/step - loss: 0.0135 - acc: 0.9956 - val_loss: 0.0220 - val_acc: 0.9932\n",
            "Epoch 9/30\n",
            "60000/60000 [==============================] - 6s 100us/step - loss: 0.0127 - acc: 0.9956 - val_loss: 0.0203 - val_acc: 0.9931\n",
            "Epoch 10/30\n",
            "60000/60000 [==============================] - 6s 100us/step - loss: 0.0129 - acc: 0.9956 - val_loss: 0.0230 - val_acc: 0.9933\n",
            "Epoch 11/30\n",
            "60000/60000 [==============================] - 6s 104us/step - loss: 0.0122 - acc: 0.9961 - val_loss: 0.0230 - val_acc: 0.9930\n",
            "Epoch 12/30\n",
            "60000/60000 [==============================] - 7s 113us/step - loss: 0.0131 - acc: 0.9954 - val_loss: 0.0204 - val_acc: 0.9938\n",
            "Epoch 13/30\n",
            "60000/60000 [==============================] - 6s 103us/step - loss: 0.0125 - acc: 0.9958 - val_loss: 0.0174 - val_acc: 0.9949\n",
            "Epoch 14/30\n",
            "60000/60000 [==============================] - 7s 110us/step - loss: 0.0112 - acc: 0.9964 - val_loss: 0.0193 - val_acc: 0.9940\n",
            "Epoch 15/30\n",
            "60000/60000 [==============================] - 6s 106us/step - loss: 0.0127 - acc: 0.9960 - val_loss: 0.0197 - val_acc: 0.9941\n",
            "Epoch 16/30\n",
            "60000/60000 [==============================] - 6s 100us/step - loss: 0.0115 - acc: 0.9960 - val_loss: 0.0217 - val_acc: 0.9931\n",
            "Epoch 17/30\n",
            "60000/60000 [==============================] - 6s 100us/step - loss: 0.0122 - acc: 0.9960 - val_loss: 0.0215 - val_acc: 0.9933\n",
            "Epoch 18/30\n",
            "60000/60000 [==============================] - 6s 100us/step - loss: 0.0120 - acc: 0.9959 - val_loss: 0.0181 - val_acc: 0.9938\n",
            "Epoch 19/30\n",
            "60000/60000 [==============================] - 6s 100us/step - loss: 0.0118 - acc: 0.9959 - val_loss: 0.0197 - val_acc: 0.9935\n",
            "Epoch 20/30\n",
            "60000/60000 [==============================] - 6s 100us/step - loss: 0.0104 - acc: 0.9965 - val_loss: 0.0193 - val_acc: 0.9938\n",
            "Epoch 21/30\n",
            "60000/60000 [==============================] - 6s 100us/step - loss: 0.0106 - acc: 0.9964 - val_loss: 0.0238 - val_acc: 0.9931\n",
            "Epoch 22/30\n",
            "60000/60000 [==============================] - 6s 100us/step - loss: 0.0115 - acc: 0.9959 - val_loss: 0.0201 - val_acc: 0.9937\n",
            "Epoch 23/30\n",
            "60000/60000 [==============================] - 6s 100us/step - loss: 0.0097 - acc: 0.9968 - val_loss: 0.0197 - val_acc: 0.9934\n",
            "Epoch 24/30\n",
            "60000/60000 [==============================] - 6s 99us/step - loss: 0.0114 - acc: 0.9962 - val_loss: 0.0228 - val_acc: 0.9924\n",
            "Epoch 25/30\n",
            "60000/60000 [==============================] - 6s 100us/step - loss: 0.0097 - acc: 0.9966 - val_loss: 0.0225 - val_acc: 0.9929\n",
            "Epoch 26/30\n",
            "60000/60000 [==============================] - 6s 100us/step - loss: 0.0103 - acc: 0.9965 - val_loss: 0.0232 - val_acc: 0.9936\n",
            "Epoch 27/30\n",
            "60000/60000 [==============================] - 6s 107us/step - loss: 0.0105 - acc: 0.9965 - val_loss: 0.0192 - val_acc: 0.9938\n",
            "Epoch 28/30\n",
            "60000/60000 [==============================] - 6s 108us/step - loss: 0.0095 - acc: 0.9965 - val_loss: 0.0232 - val_acc: 0.9929\n",
            "Epoch 29/30\n",
            "60000/60000 [==============================] - 6s 100us/step - loss: 0.0105 - acc: 0.9964 - val_loss: 0.0252 - val_acc: 0.9930\n",
            "Epoch 30/30\n",
            "60000/60000 [==============================] - 6s 99us/step - loss: 0.0103 - acc: 0.9963 - val_loss: 0.0259 - val_acc: 0.9930\n"
          ],
          "name": "stdout"
        },
        {
          "output_type": "execute_result",
          "data": {
            "text/plain": [
              "<keras.callbacks.History at 0x7f67acd3f320>"
            ]
          },
          "metadata": {
            "tags": []
          },
          "execution_count": 22
        }
      ]
    },
    {
      "cell_type": "code",
      "metadata": {
        "id": "qeqnTRyw0XyQ",
        "colab_type": "code",
        "outputId": "7200fc9f-2f46-4548-aa91-3e409cbae531",
        "colab": {
          "base_uri": "https://localhost:8080/",
          "height": 51
        }
      },
      "source": [
        "# evaluating and printing model score\n",
        "score = model.evaluate(X_test, Y_test, verbose=0)\n",
        "print('Loss:', score[0])\n",
        "print('Accuracy:', score[1])"
      ],
      "execution_count": 23,
      "outputs": [
        {
          "output_type": "stream",
          "text": [
            "Loss: 0.02593083482312345\n",
            "Accuracy: 0.993\n"
          ],
          "name": "stdout"
        }
      ]
    }
  ]
}