{
  "nbformat": 4,
  "nbformat_minor": 0,
  "metadata": {
    "colab": {
      "name": "Fifth Assignment",
      "version": "0.3.2",
      "provenance": [],
      "collapsed_sections": []
    },
    "kernelspec": {
      "name": "python3",
      "display_name": "Python 3"
    },
    "accelerator": "GPU"
  },
  "cells": [
    {
      "cell_type": "markdown",
      "metadata": {
        "id": "LKaOzFC9r2F7",
        "colab_type": "text"
      },
      "source": [
        "### case1: Activation fuction ReLU after BN - Observation: Validation accuracy(99.48%) has almost no impact."
      ]
    },
    {
      "cell_type": "code",
      "metadata": {
        "id": "0SJyVpgSxHt4",
        "colab_type": "code",
        "outputId": "4834f1d3-a9ce-4573-9588-64f590c7c8fc",
        "colab": {
          "base_uri": "https://localhost:8080/",
          "height": 35
        }
      },
      "source": [
        "import numpy as np\n",
        "\n",
        "from keras.models import Sequential\n",
        "from keras.layers import Dense, Dropout, Activation, Flatten, Add, BatchNormalization\n",
        "from keras.layers import Convolution2D, MaxPooling2D\n",
        "from keras.utils import np_utils\n",
        "\n",
        "from keras.datasets import mnist"
      ],
      "execution_count": 0,
      "outputs": [
        {
          "output_type": "stream",
          "text": [
            "Using TensorFlow backend.\n"
          ],
          "name": "stderr"
        }
      ]
    },
    {
      "cell_type": "code",
      "metadata": {
        "id": "YlEUplvoxKAT",
        "colab_type": "code",
        "colab": {}
      },
      "source": [
        "(X_train, y_train), (X_test, y_test) = mnist.load_data()\n"
      ],
      "execution_count": 0,
      "outputs": []
    },
    {
      "cell_type": "code",
      "metadata": {
        "id": "I6Y9Va-xxMXG",
        "colab_type": "code",
        "outputId": "9898c55a-32d1-4717-acef-acf6ade54169",
        "colab": {
          "base_uri": "https://localhost:8080/",
          "height": 306
        }
      },
      "source": [
        "print (X_train.shape)\n",
        "from matplotlib import pyplot as plt\n",
        "%matplotlib inline\n",
        "plt.imshow(X_train[1])"
      ],
      "execution_count": 0,
      "outputs": [
        {
          "output_type": "stream",
          "text": [
            "(60000, 28, 28)\n"
          ],
          "name": "stdout"
        },
        {
          "output_type": "execute_result",
          "data": {
            "text/plain": [
              "<matplotlib.image.AxesImage at 0x7f0442241a20>"
            ]
          },
          "metadata": {
            "tags": []
          },
          "execution_count": 4
        },
        {
          "output_type": "display_data",
          "data": {
            "image/png": "[encoded data removed]",
            "text/plain": [
              "<Figure size 432x288 with 1 Axes>"
            ]
          },
          "metadata": {
            "tags": []
          }
        }
      ]
    },
    {
      "cell_type": "code",
      "metadata": {
        "id": "lxDZxPhhxOgO",
        "colab_type": "code",
        "colab": {}
      },
      "source": [
        "X_train = X_train.reshape(X_train.shape[0], 28, 28,1)\n",
        "X_test = X_test.reshape(X_test.shape[0], 28, 28,1)"
      ],
      "execution_count": 0,
      "outputs": []
    },
    {
      "cell_type": "code",
      "metadata": {
        "id": "3HzMqbTnxQQW",
        "colab_type": "code",
        "colab": {}
      },
      "source": [
        "X_train = X_train.astype('float32')\n",
        "X_test = X_test.astype('float32')\n",
        "X_train /= 255\n",
        "X_test /= 255"
      ],
      "execution_count": 0,
      "outputs": []
    },
    {
      "cell_type": "code",
      "metadata": {
        "id": "ATpak7d3KrjP",
        "colab_type": "code",
        "outputId": "28e80ba3-378f-4cff-c39d-07ebe67d9390",
        "colab": {
          "base_uri": "https://localhost:8080/",
          "height": 72
        }
      },
      "source": [
        "print('X_train shape:', X_train.shape)\n",
        "print('Number of images in X_train', X_train.shape[0])\n",
        "print('Number of images in X_test', X_test.shape[0])"
      ],
      "execution_count": 0,
      "outputs": [
        {
          "output_type": "stream",
          "text": [
            "X_train shape: (60000, 28, 28, 1)\n",
            "Number of images in X_train 60000\n",
            "Number of images in X_test 10000\n"
          ],
          "name": "stdout"
        }
      ]
    },
    {
      "cell_type": "code",
      "metadata": {
        "id": "7LdYiW6ixR9e",
        "colab_type": "code",
        "colab": {}
      },
      "source": [
        "y_train[:10]\n",
        "Y_train = np_utils.to_categorical(y_train, 10)\n",
        "Y_test = np_utils.to_categorical(y_test, 10)"
      ],
      "execution_count": 0,
      "outputs": []
    },
    {
      "cell_type": "code",
      "metadata": {
        "id": "rFR0F9j0xVp2",
        "colab_type": "code",
        "outputId": "272d8660-578b-42e1-d506-f2eb4d28554a",
        "colab": {
          "base_uri": "https://localhost:8080/",
          "height": 201
        }
      },
      "source": [
        "Y_train[:10]"
      ],
      "execution_count": 0,
      "outputs": [
        {
          "output_type": "execute_result",
          "data": {
            "text/plain": [
              "array([[0., 0., 0., 0., 0., 1., 0., 0., 0., 0.],\n",
              "       [1., 0., 0., 0., 0., 0., 0., 0., 0., 0.],\n",
              "       [0., 0., 0., 0., 1., 0., 0., 0., 0., 0.],\n",
              "       [0., 1., 0., 0., 0., 0., 0., 0., 0., 0.],\n",
              "       [0., 0., 0., 0., 0., 0., 0., 0., 0., 1.],\n",
              "       [0., 0., 1., 0., 0., 0., 0., 0., 0., 0.],\n",
              "       [0., 1., 0., 0., 0., 0., 0., 0., 0., 0.],\n",
              "       [0., 0., 0., 1., 0., 0., 0., 0., 0., 0.],\n",
              "       [0., 1., 0., 0., 0., 0., 0., 0., 0., 0.],\n",
              "       [0., 0., 0., 0., 1., 0., 0., 0., 0., 0.]], dtype=float32)"
            ]
          },
          "metadata": {
            "tags": []
          },
          "execution_count": 9
        }
      ]
    },
    {
      "cell_type": "code",
      "metadata": {
        "id": "mDpXf4YQxXRm",
        "colab_type": "code",
        "outputId": "f1a7fb52-413f-4207-ff1f-571e10e1aa46",
        "colab": {
          "base_uri": "https://localhost:8080/",
          "height": 1690
        }
      },
      "source": [
        "from keras.layers import Activation\n",
        "from keras.regularizers import l2\n",
        "model = Sequential()\n",
        " \n",
        "model.add(Convolution2D(16, 3, 3,kernel_regularizer=l2(0.01), input_shape=(28,28,1))) #26\n",
        "model.add(BatchNormalization())\n",
        "model.add(Activation('relu'))\n",
        "model.add(Dropout(0.1))\n",
        "\n",
        "model.add(Convolution2D(32, 3, 3, kernel_regularizer=l2(0.01),)) #24\n",
        "model.add(BatchNormalization())\n",
        "model.add(Activation('relu'))\n",
        "model.add(Dropout(0.1))\n",
        "\n",
        "model.add(Convolution2D(10, 1, 1,kernel_regularizer=l2(0.01))) #22\n",
        "model.add(Activation('relu'))\n",
        "\n",
        "model.add(MaxPooling2D(pool_size=(2, 2)))#11\n",
        "\n",
        "model.add(Convolution2D(16, 3, 3,kernel_regularizer=l2(0.01)))#9\n",
        "model.add(BatchNormalization())\n",
        "model.add(Activation('relu'))\n",
        "model.add(Dropout(0.1))\n",
        "\n",
        "\n",
        "model.add(Convolution2D(16, 3, 3,kernel_regularizer=l2(0.01)))#7\n",
        "model.add(BatchNormalization())\n",
        "model.add(Activation('relu'))\n",
        "model.add(Dropout(0.1))\n",
        "\n",
        "\n",
        "model.add(Convolution2D(16, 3, 3,kernel_regularizer=l2(0.01)))#5\n",
        "model.add(BatchNormalization())\n",
        "model.add(Activation('relu'))\n",
        "model.add(Dropout(0.1))\n",
        "\n",
        "\n",
        "model.add(Convolution2D(16, 3, 3,kernel_regularizer=l2(0.01)))#3\n",
        "model.add(BatchNormalization())\n",
        "model.add(Activation('relu'))\n",
        "model.add(Dropout(0.1))\n",
        "\n",
        "\n",
        "model.add(Convolution2D(10, 4, 4,kernel_regularizer=l2(0.01)))\n",
        "model.add(BatchNormalization())\n",
        "model.add(Activation('relu'))\n",
        "model.add(Dropout(0.1))\n",
        "\n",
        "\n",
        "model.add(Flatten())\n",
        "model.add(Activation('softmax'))\n",
        "\n",
        "\n",
        "model.summary()"
      ],
      "execution_count": 0,
      "outputs": [
        {
          "output_type": "stream",
          "text": [
            "WARNING:tensorflow:From /usr/local/lib/python3.6/dist-packages/tensorflow/python/framework/op_def_library.py:263: colocate_with (from tensorflow.python.framework.ops) is deprecated and will be removed in a future version.\n",
            "Instructions for updating:\n",
            "Colocations handled automatically by placer.\n"
          ],
          "name": "stdout"
        },
        {
          "output_type": "stream",
          "text": [
            "/usr/local/lib/python3.6/dist-packages/ipykernel_launcher.py:5: UserWarning: Update your `Conv2D` call to the Keras 2 API: `Conv2D(16, (3, 3), kernel_regularizer=<keras.reg..., input_shape=(28, 28, 1...)`\n",
            "  \"\"\"\n"
          ],
          "name": "stderr"
        },
        {
          "output_type": "stream",
          "text": [
            "WARNING:tensorflow:From /usr/local/lib/python3.6/dist-packages/keras/backend/tensorflow_backend.py:3445: calling dropout (from tensorflow.python.ops.nn_ops) with keep_prob is deprecated and will be removed in a future version.\n",
            "Instructions for updating:\n",
            "Please use `rate` instead of `keep_prob`. Rate should be set to `rate = 1 - keep_prob`.\n"
          ],
          "name": "stdout"
        },
        {
          "output_type": "stream",
          "text": [
            "/usr/local/lib/python3.6/dist-packages/ipykernel_launcher.py:10: UserWarning: Update your `Conv2D` call to the Keras 2 API: `Conv2D(32, (3, 3), kernel_regularizer=<keras.reg...)`\n",
            "  # Remove the CWD from sys.path while we load stuff.\n",
            "/usr/local/lib/python3.6/dist-packages/ipykernel_launcher.py:15: UserWarning: Update your `Conv2D` call to the Keras 2 API: `Conv2D(10, (1, 1), kernel_regularizer=<keras.reg...)`\n",
            "  from ipykernel import kernelapp as app\n",
            "/usr/local/lib/python3.6/dist-packages/ipykernel_launcher.py:20: UserWarning: Update your `Conv2D` call to the Keras 2 API: `Conv2D(16, (3, 3), kernel_regularizer=<keras.reg...)`\n",
            "/usr/local/lib/python3.6/dist-packages/ipykernel_launcher.py:26: UserWarning: Update your `Conv2D` call to the Keras 2 API: `Conv2D(16, (3, 3), kernel_regularizer=<keras.reg...)`\n",
            "/usr/local/lib/python3.6/dist-packages/ipykernel_launcher.py:32: UserWarning: Update your `Conv2D` call to the Keras 2 API: `Conv2D(16, (3, 3), kernel_regularizer=<keras.reg...)`\n",
            "/usr/local/lib/python3.6/dist-packages/ipykernel_launcher.py:38: UserWarning: Update your `Conv2D` call to the Keras 2 API: `Conv2D(16, (3, 3), kernel_regularizer=<keras.reg...)`\n",
            "/usr/local/lib/python3.6/dist-packages/ipykernel_launcher.py:44: UserWarning: Update your `Conv2D` call to the Keras 2 API: `Conv2D(10, (4, 4), kernel_regularizer=<keras.reg...)`\n"
          ],
          "name": "stderr"
        },
        {
          "output_type": "stream",
          "text": [
            "_________________________________________________________________\n",
            "Layer (type)                 Output Shape              Param #   \n",
            "=================================================================\n",
            "conv2d_1 (Conv2D)            (None, 26, 26, 16)        160       \n",
            "_________________________________________________________________\n",
            "batch_normalization_1 (Batch (None, 26, 26, 16)        64        \n",
            "_________________________________________________________________\n",
            "activation_1 (Activation)    (None, 26, 26, 16)        0         \n",
            "_________________________________________________________________\n",
            "dropout_1 (Dropout)          (None, 26, 26, 16)        0         \n",
            "_________________________________________________________________\n",
            "conv2d_2 (Conv2D)            (None, 24, 24, 32)        4640      \n",
            "_________________________________________________________________\n",
            "batch_normalization_2 (Batch (None, 24, 24, 32)        128       \n",
            "_________________________________________________________________\n",
            "activation_2 (Activation)    (None, 24, 24, 32)        0         \n",
            "_________________________________________________________________\n",
            "dropout_2 (Dropout)          (None, 24, 24, 32)        0         \n",
            "_________________________________________________________________\n",
            "conv2d_3 (Conv2D)            (None, 24, 24, 10)        330       \n",
            "_________________________________________________________________\n",
            "activation_3 (Activation)    (None, 24, 24, 10)        0         \n",
            "_________________________________________________________________\n",
            "max_pooling2d_1 (MaxPooling2 (None, 12, 12, 10)        0         \n",
            "_________________________________________________________________\n",
            "conv2d_4 (Conv2D)            (None, 10, 10, 16)        1456      \n",
            "_________________________________________________________________\n",
            "batch_normalization_3 (Batch (None, 10, 10, 16)        64        \n",
            "_________________________________________________________________\n",
            "activation_4 (Activation)    (None, 10, 10, 16)        0         \n",
            "_________________________________________________________________\n",
            "dropout_3 (Dropout)          (None, 10, 10, 16)        0         \n",
            "_________________________________________________________________\n",
            "conv2d_5 (Conv2D)            (None, 8, 8, 16)          2320      \n",
            "_________________________________________________________________\n",
            "batch_normalization_4 (Batch (None, 8, 8, 16)          64        \n",
            "_________________________________________________________________\n",
            "activation_5 (Activation)    (None, 8, 8, 16)          0         \n",
            "_________________________________________________________________\n",
            "dropout_4 (Dropout)          (None, 8, 8, 16)          0         \n",
            "_________________________________________________________________\n",
            "conv2d_6 (Conv2D)            (None, 6, 6, 16)          2320      \n",
            "_________________________________________________________________\n",
            "batch_normalization_5 (Batch (None, 6, 6, 16)          64        \n",
            "_________________________________________________________________\n",
            "activation_6 (Activation)    (None, 6, 6, 16)          0         \n",
            "_________________________________________________________________\n",
            "dropout_5 (Dropout)          (None, 6, 6, 16)          0         \n",
            "_________________________________________________________________\n",
            "conv2d_7 (Conv2D)            (None, 4, 4, 16)          2320      \n",
            "_________________________________________________________________\n",
            "batch_normalization_6 (Batch (None, 4, 4, 16)          64        \n",
            "_________________________________________________________________\n",
            "activation_7 (Activation)    (None, 4, 4, 16)          0         \n",
            "_________________________________________________________________\n",
            "dropout_6 (Dropout)          (None, 4, 4, 16)          0         \n",
            "_________________________________________________________________\n",
            "conv2d_8 (Conv2D)            (None, 1, 1, 10)          2570      \n",
            "_________________________________________________________________\n",
            "batch_normalization_7 (Batch (None, 1, 1, 10)          40        \n",
            "_________________________________________________________________\n",
            "activation_8 (Activation)    (None, 1, 1, 10)          0         \n",
            "_________________________________________________________________\n",
            "dropout_7 (Dropout)          (None, 1, 1, 10)          0         \n",
            "_________________________________________________________________\n",
            "flatten_1 (Flatten)          (None, 10)                0         \n",
            "_________________________________________________________________\n",
            "activation_9 (Activation)    (None, 10)                0         \n",
            "=================================================================\n",
            "Total params: 16,604\n",
            "Trainable params: 16,360\n",
            "Non-trainable params: 244\n",
            "_________________________________________________________________\n"
          ],
          "name": "stdout"
        }
      ]
    },
    {
      "cell_type": "code",
      "metadata": {
        "id": "L2IicGJ4x3Be",
        "colab_type": "code",
        "colab": {}
      },
      "source": [
        "from keras.optimizers import Adam\n",
        "from keras.callbacks import LearningRateScheduler\n",
        "def scheduler(epoch, lr):\n",
        "  return round(0.003 * 1/(1 + 0.319 * epoch), 10)\n",
        "\n",
        "model.compile(loss='categorical_crossentropy', optimizer=Adam(lr=0.003), metrics=['accuracy'])\n",
        "\n"
      ],
      "execution_count": 0,
      "outputs": []
    },
    {
      "cell_type": "code",
      "metadata": {
        "id": "IR8dgJqv9Skg",
        "colab_type": "code",
        "outputId": "acbc117d-1541-4467-87ae-2820a3b5d0cd",
        "colab": {
          "base_uri": "https://localhost:8080/",
          "height": 1653
        }
      },
      "source": [
        "from keras.datasets import mnist\n",
        "from keras.preprocessing.image import ImageDataGenerator\n",
        "\n",
        "# create generator that centers pixel values\n",
        "train_datagen = ImageDataGenerator(featurewise_center=True, featurewise_std_normalization=True)\n",
        "test_datagen = ImageDataGenerator()\n",
        "train_set= train_datagen.flow(X_train, Y_train, batch_size=64)\n",
        "test_set= train_datagen.flow(X_test, Y_test, batch_size=64)\n",
        "\n",
        "model.fit_generator(train_set, \n",
        "                         steps_per_epoch=60000//64, \n",
        "                         validation_data= test_set, \n",
        "                         validation_steps=10000//64, \n",
        "                         epochs=40)\n",
        "\n",
        "                                 \n",
        "                   "
      ],
      "execution_count": 0,
      "outputs": [
        {
          "output_type": "stream",
          "text": [
            "WARNING:tensorflow:From /usr/local/lib/python3.6/dist-packages/tensorflow/python/ops/math_ops.py:3066: to_int32 (from tensorflow.python.ops.math_ops) is deprecated and will be removed in a future version.\n",
            "Instructions for updating:\n",
            "Use tf.cast instead.\n",
            "Epoch 1/40\n"
          ],
          "name": "stdout"
        },
        {
          "output_type": "stream",
          "text": [
            "/usr/local/lib/python3.6/dist-packages/keras_preprocessing/image/image_data_generator.py:699: UserWarning: This ImageDataGenerator specifies `featurewise_center`, but it hasn't been fit on any training data. Fit it first by calling `.fit(numpy_data)`.\n",
            "  warnings.warn('This ImageDataGenerator specifies '\n",
            "/usr/local/lib/python3.6/dist-packages/keras_preprocessing/image/image_data_generator.py:707: UserWarning: This ImageDataGenerator specifies `featurewise_std_normalization`, but it hasn't been fit on any training data. Fit it first by calling `.fit(numpy_data)`.\n",
            "  warnings.warn('This ImageDataGenerator specifies '\n"
          ],
          "name": "stderr"
        },
        {
          "output_type": "stream",
          "text": [
            "937/937 [==============================] - 16s 17ms/step - loss: 0.8178 - acc: 0.8446 - val_loss: 0.3555 - val_acc: 0.9627\n",
            "Epoch 2/40\n",
            "937/937 [==============================] - 13s 13ms/step - loss: 0.5531 - acc: 0.8642 - val_loss: 0.6174 - val_acc: 0.8677\n",
            "Epoch 3/40\n",
            "937/937 [==============================] - 14s 15ms/step - loss: 0.5490 - acc: 0.8671 - val_loss: 0.3577 - val_acc: 0.9550\n",
            "Epoch 4/40\n",
            "937/937 [==============================] - 13s 13ms/step - loss: 0.5455 - acc: 0.8679 - val_loss: 0.7860 - val_acc: 0.8235\n",
            "Epoch 5/40\n",
            "937/937 [==============================] - 13s 13ms/step - loss: 0.5501 - acc: 0.8678 - val_loss: 0.2534 - val_acc: 0.9815\n",
            "Epoch 6/40\n",
            "937/937 [==============================] - 13s 13ms/step - loss: 0.5344 - acc: 0.8698 - val_loss: 0.2464 - val_acc: 0.9774\n",
            "Epoch 7/40\n",
            "937/937 [==============================] - 13s 13ms/step - loss: 0.5390 - acc: 0.8692 - val_loss: 0.3766 - val_acc: 0.9390\n",
            "Epoch 8/40\n",
            "937/937 [==============================] - 13s 13ms/step - loss: 0.5277 - acc: 0.8703 - val_loss: 0.3128 - val_acc: 0.9587\n",
            "Epoch 9/40\n",
            "937/937 [==============================] - 13s 14ms/step - loss: 0.5279 - acc: 0.8704 - val_loss: 0.4230 - val_acc: 0.9261\n",
            "Epoch 10/40\n",
            "937/937 [==============================] - 13s 14ms/step - loss: 0.5266 - acc: 0.8704 - val_loss: 0.3089 - val_acc: 0.9552\n",
            "Epoch 11/40\n",
            "937/937 [==============================] - 13s 13ms/step - loss: 0.5230 - acc: 0.8710 - val_loss: 0.4616 - val_acc: 0.9079\n",
            "Epoch 12/40\n",
            "937/937 [==============================] - 13s 13ms/step - loss: 0.5131 - acc: 0.8723 - val_loss: 0.3335 - val_acc: 0.9583\n",
            "Epoch 13/40\n",
            "937/937 [==============================] - 13s 13ms/step - loss: 0.5054 - acc: 0.8734 - val_loss: 0.2958 - val_acc: 0.9580\n",
            "Epoch 14/40\n",
            "937/937 [==============================] - 13s 14ms/step - loss: 0.5164 - acc: 0.8706 - val_loss: 0.5027 - val_acc: 0.9052\n",
            "Epoch 15/40\n",
            "937/937 [==============================] - 14s 15ms/step - loss: 0.5155 - acc: 0.8704 - val_loss: 0.2191 - val_acc: 0.9795\n",
            "Epoch 16/40\n",
            "937/937 [==============================] - 13s 14ms/step - loss: 0.5108 - acc: 0.8727 - val_loss: 0.2722 - val_acc: 0.9669\n",
            "Epoch 17/40\n",
            "937/937 [==============================] - 13s 13ms/step - loss: 0.5087 - acc: 0.8725 - val_loss: 0.2504 - val_acc: 0.9732\n",
            "Epoch 18/40\n",
            "937/937 [==============================] - 13s 13ms/step - loss: 0.5120 - acc: 0.8710 - val_loss: 0.4993 - val_acc: 0.9011\n",
            "Epoch 19/40\n",
            "937/937 [==============================] - 12s 13ms/step - loss: 0.5072 - acc: 0.8731 - val_loss: 0.2887 - val_acc: 0.9646\n",
            "Epoch 20/40\n",
            "937/937 [==============================] - 12s 13ms/step - loss: 0.5137 - acc: 0.8711 - val_loss: 0.3862 - val_acc: 0.9302\n",
            "Epoch 21/40\n",
            "937/937 [==============================] - 12s 13ms/step - loss: 0.5118 - acc: 0.8716 - val_loss: 0.2340 - val_acc: 0.9739\n",
            "Epoch 22/40\n",
            "937/937 [==============================] - 14s 15ms/step - loss: 0.5172 - acc: 0.8700 - val_loss: 0.2793 - val_acc: 0.9626\n",
            "Epoch 23/40\n",
            "937/937 [==============================] - 12s 13ms/step - loss: 0.5115 - acc: 0.8723 - val_loss: 0.2428 - val_acc: 0.9728\n",
            "Epoch 24/40\n",
            "937/937 [==============================] - 12s 13ms/step - loss: 0.5092 - acc: 0.8712 - val_loss: 0.2761 - val_acc: 0.9642\n",
            "Epoch 25/40\n",
            "937/937 [==============================] - 12s 13ms/step - loss: 0.5085 - acc: 0.8718 - val_loss: 0.2788 - val_acc: 0.9676\n",
            "Epoch 26/40\n",
            "937/937 [==============================] - 12s 13ms/step - loss: 0.5125 - acc: 0.8706 - val_loss: 0.3195 - val_acc: 0.9467\n",
            "Epoch 27/40\n",
            "937/937 [==============================] - 12s 13ms/step - loss: 0.5069 - acc: 0.8729 - val_loss: 0.2197 - val_acc: 0.9829\n",
            "Epoch 28/40\n",
            "937/937 [==============================] - 13s 14ms/step - loss: 0.5130 - acc: 0.8711 - val_loss: 0.2505 - val_acc: 0.9681\n",
            "Epoch 29/40\n",
            "937/937 [==============================] - 13s 14ms/step - loss: 0.5158 - acc: 0.8704 - val_loss: 0.2418 - val_acc: 0.9723\n",
            "Epoch 30/40\n",
            "937/937 [==============================] - 12s 13ms/step - loss: 0.5109 - acc: 0.8708 - val_loss: 0.2336 - val_acc: 0.9759\n",
            "Epoch 31/40\n",
            "937/937 [==============================] - 12s 13ms/step - loss: 0.5065 - acc: 0.8724 - val_loss: 0.2285 - val_acc: 0.9748\n",
            "Epoch 32/40\n",
            "937/937 [==============================] - 12s 13ms/step - loss: 0.5094 - acc: 0.8709 - val_loss: 0.2386 - val_acc: 0.9717\n",
            "Epoch 33/40\n",
            "937/937 [==============================] - 12s 13ms/step - loss: 0.5066 - acc: 0.8721 - val_loss: 0.2424 - val_acc: 0.9673\n",
            "Epoch 34/40\n",
            "937/937 [==============================] - 13s 13ms/step - loss: 0.5145 - acc: 0.8714 - val_loss: 0.2113 - val_acc: 0.9788\n",
            "Epoch 35/40\n",
            "937/937 [==============================] - 14s 14ms/step - loss: 0.5080 - acc: 0.8717 - val_loss: 0.2259 - val_acc: 0.9775\n",
            "Epoch 36/40\n",
            "937/937 [==============================] - 12s 13ms/step - loss: 0.5030 - acc: 0.8731 - val_loss: 0.2604 - val_acc: 0.9702\n",
            "Epoch 37/40\n",
            "937/937 [==============================] - 12s 13ms/step - loss: 0.5103 - acc: 0.8717 - val_loss: 0.3225 - val_acc: 0.9501\n",
            "Epoch 38/40\n",
            "937/937 [==============================] - 12s 13ms/step - loss: 0.5084 - acc: 0.8716 - val_loss: 0.3093 - val_acc: 0.9519\n",
            "Epoch 39/40\n",
            "937/937 [==============================] - 14s 15ms/step - loss: 0.5184 - acc: 0.8697 - val_loss: 0.2940 - val_acc: 0.9612\n",
            "Epoch 40/40\n",
            "937/937 [==============================] - 12s 13ms/step - loss: 0.5097 - acc: 0.8713 - val_loss: 0.2244 - val_acc: 0.9732\n"
          ],
          "name": "stdout"
        },
        {
          "output_type": "execute_result",
          "data": {
            "text/plain": [
              "<keras.callbacks.History at 0x7f04308514a8>"
            ]
          },
          "metadata": {
            "tags": []
          },
          "execution_count": 12
        }
      ]
    },
    {
      "cell_type": "code",
      "metadata": {
        "id": "WLxlW9ufyQiO",
        "colab_type": "code",
        "outputId": "b3a0722d-3c46-4828-f49c-e6e6b189b535",
        "colab": {
          "base_uri": "https://localhost:8080/",
          "height": 35
        }
      },
      "source": [
        "\n",
        "score = model.evaluate(X_test, Y_test, verbose=0)\n",
        "print(score)"
      ],
      "execution_count": 0,
      "outputs": [
        {
          "output_type": "stream",
          "text": [
            "[0.21949351046085358, 0.9746]\n"
          ],
          "name": "stdout"
        }
      ]
    },
    {
      "cell_type": "code",
      "metadata": {
        "id": "b19I17-NVSDR",
        "colab_type": "code",
        "outputId": "a02bf235-52e2-4877-8f9e-abc8c4a5f2da",
        "colab": {
          "base_uri": "https://localhost:8080/",
          "height": 306
        }
      },
      "source": [
        "def randIm():\n",
        "    i = np.random.choice(np.arange(0, len(Y_test)), size = (1,))\n",
        "    pred = model.predict(X_test[i])\n",
        "    image = (X_test[i].reshape(28, 28))\n",
        "    # show the prediction\n",
        "    print (\"Actual digit is\", Y_test[i], \"predicted\", pred[0])\n",
        "    imgplot = plt.imshow(image)\n",
        "    imgplot.set_cmap('gray')   \n",
        "\n",
        "randIm()"
      ],
      "execution_count": 0,
      "outputs": [
        {
          "output_type": "stream",
          "text": [
            "Actual digit is [[0. 0. 0. 0. 1. 0. 0. 0. 0. 0.]] predicted [3.1973154e-04 3.1973154e-04 3.1973154e-04 3.1973154e-04 9.9712235e-01\n",
            " 3.1973154e-04 3.1973154e-04 3.1973154e-04 3.1973154e-04 3.1973154e-04]\n"
          ],
          "name": "stdout"
        },
        {
          "output_type": "display_data",
          "data": {
            "image/png": "[encoded data removed]",
            "text/plain": [
              "<Figure size 432x288 with 1 Axes>"
            ]
          },
          "metadata": {
            "tags": []
          }
        }
      ]
    }
  ]
}